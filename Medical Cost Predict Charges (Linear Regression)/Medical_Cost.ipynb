{
 "cells": [
  {
   "cell_type": "markdown",
   "id": "7ec3a3be",
   "metadata": {},
   "source": [
    "# Import All the libraries"
   ]
  },
  {
   "cell_type": "code",
   "execution_count": 1,
   "id": "abf80824",
   "metadata": {},
   "outputs": [],
   "source": [
    "import numpy as np \n",
    "import pandas as pd\n",
    "import matplotlib.pyplot as plt\n",
    "import seaborn as sns\n",
    "from sklearn.model_selection import train_test_split\n",
    "from sklearn.linear_model import LinearRegression\n",
    "from sklearn import preprocessing"
   ]
  },
  {
   "cell_type": "markdown",
   "id": "728094b3",
   "metadata": {},
   "source": [
    "# Read dataset"
   ]
  },
  {
   "cell_type": "code",
   "execution_count": 3,
   "id": "wired-yorkshire",
   "metadata": {},
   "outputs": [],
   "source": [
    "data=pd.read_csv('Medical_Cost .csv')"
   ]
  },
  {
   "cell_type": "code",
   "execution_count": 4,
   "id": "above-handbook",
   "metadata": {
    "scrolled": true
   },
   "outputs": [
    {
     "data": {
      "text/html": [
       "<div>\n",
       "<style scoped>\n",
       "    .dataframe tbody tr th:only-of-type {\n",
       "        vertical-align: middle;\n",
       "    }\n",
       "\n",
       "    .dataframe tbody tr th {\n",
       "        vertical-align: top;\n",
       "    }\n",
       "\n",
       "    .dataframe thead th {\n",
       "        text-align: right;\n",
       "    }\n",
       "</style>\n",
       "<table border=\"1\" class=\"dataframe\">\n",
       "  <thead>\n",
       "    <tr style=\"text-align: right;\">\n",
       "      <th></th>\n",
       "      <th>age</th>\n",
       "      <th>gender</th>\n",
       "      <th>bmi</th>\n",
       "      <th>children</th>\n",
       "      <th>smoker</th>\n",
       "      <th>region</th>\n",
       "      <th>charges</th>\n",
       "    </tr>\n",
       "  </thead>\n",
       "  <tbody>\n",
       "    <tr>\n",
       "      <th>0</th>\n",
       "      <td>19</td>\n",
       "      <td>female</td>\n",
       "      <td>27.900</td>\n",
       "      <td>0</td>\n",
       "      <td>yes</td>\n",
       "      <td>southwest</td>\n",
       "      <td>16884.92400</td>\n",
       "    </tr>\n",
       "    <tr>\n",
       "      <th>1</th>\n",
       "      <td>18</td>\n",
       "      <td>male</td>\n",
       "      <td>33.770</td>\n",
       "      <td>1</td>\n",
       "      <td>no</td>\n",
       "      <td>southeast</td>\n",
       "      <td>1725.55230</td>\n",
       "    </tr>\n",
       "    <tr>\n",
       "      <th>2</th>\n",
       "      <td>28</td>\n",
       "      <td>male</td>\n",
       "      <td>33.000</td>\n",
       "      <td>3</td>\n",
       "      <td>no</td>\n",
       "      <td>southeast</td>\n",
       "      <td>4449.46200</td>\n",
       "    </tr>\n",
       "    <tr>\n",
       "      <th>3</th>\n",
       "      <td>33</td>\n",
       "      <td>male</td>\n",
       "      <td>22.705</td>\n",
       "      <td>0</td>\n",
       "      <td>no</td>\n",
       "      <td>northwest</td>\n",
       "      <td>21984.47061</td>\n",
       "    </tr>\n",
       "    <tr>\n",
       "      <th>4</th>\n",
       "      <td>32</td>\n",
       "      <td>male</td>\n",
       "      <td>28.880</td>\n",
       "      <td>0</td>\n",
       "      <td>no</td>\n",
       "      <td>northwest</td>\n",
       "      <td>3866.85520</td>\n",
       "    </tr>\n",
       "  </tbody>\n",
       "</table>\n",
       "</div>"
      ],
      "text/plain": [
       "   age  gender     bmi  children smoker     region      charges\n",
       "0   19  female  27.900         0    yes  southwest  16884.92400\n",
       "1   18    male  33.770         1     no  southeast   1725.55230\n",
       "2   28    male  33.000         3     no  southeast   4449.46200\n",
       "3   33    male  22.705         0     no  northwest  21984.47061\n",
       "4   32    male  28.880         0     no  northwest   3866.85520"
      ]
     },
     "execution_count": 4,
     "metadata": {},
     "output_type": "execute_result"
    }
   ],
   "source": [
    "data.head()"
   ]
  },
  {
   "cell_type": "markdown",
   "id": "347906d2",
   "metadata": {},
   "source": [
    "# Shape Of the dataset"
   ]
  },
  {
   "cell_type": "code",
   "execution_count": 23,
   "id": "becoming-printer",
   "metadata": {},
   "outputs": [
    {
     "data": {
      "text/plain": [
       "(1338, 7)"
      ]
     },
     "execution_count": 23,
     "metadata": {},
     "output_type": "execute_result"
    }
   ],
   "source": [
    "data.shape"
   ]
  },
  {
   "cell_type": "markdown",
   "id": "a8b72f80",
   "metadata": {},
   "source": [
    "# Check the null value in the dataset"
   ]
  },
  {
   "cell_type": "code",
   "execution_count": 24,
   "id": "verbal-concept",
   "metadata": {},
   "outputs": [
    {
     "data": {
      "text/plain": [
       "age         0\n",
       "gender      0\n",
       "bmi         0\n",
       "children    0\n",
       "smoker      0\n",
       "region      0\n",
       "charges     0\n",
       "dtype: int64"
      ]
     },
     "execution_count": 24,
     "metadata": {},
     "output_type": "execute_result"
    }
   ],
   "source": [
    "data.isnull().sum()"
   ]
  },
  {
   "cell_type": "code",
   "execution_count": 25,
   "id": "prostate-affiliate",
   "metadata": {},
   "outputs": [
    {
     "data": {
      "image/png": "[encoded data removed]",
      "text/plain": [
       "<Figure size 360x360 with 1 Axes>"
      ]
     },
     "metadata": {
      "needs_background": "light"
     },
     "output_type": "display_data"
    }
   ],
   "source": [
    "plt.figure(figsize=(5,5))\n",
    "plt.grid()\n",
    "sns.countplot(x='gender', data= data)\n",
    "plt.title(\"Gender\", fontsize=15)\n",
    "plt.show()"
   ]
  },
  {
   "cell_type": "code",
   "execution_count": 26,
   "id": "aging-specification",
   "metadata": {},
   "outputs": [
    {
     "data": {
      "image/png": "[encoded data removed]",
      "text/plain": [
       "<Figure size 360x360 with 1 Axes>"
      ]
     },
     "metadata": {
      "needs_background": "light"
     },
     "output_type": "display_data"
    }
   ],
   "source": [
    "plt.figure(figsize=(5,5))\n",
    "plt.grid()\n",
    "sns.countplot(x='smoker', data= data)\n",
    "plt.title(\"Smoker\", fontsize=15)\n",
    "plt.show()"
   ]
  },
  {
   "cell_type": "code",
   "execution_count": 27,
   "id": "sealed-ivory",
   "metadata": {},
   "outputs": [
    {
     "data": {
      "image/png": "[encoded data removed]",
      "text/plain": [
       "<Figure size 1800x360 with 1 Axes>"
      ]
     },
     "metadata": {
      "needs_background": "light"
     },
     "output_type": "display_data"
    }
   ],
   "source": [
    "plt.figure(figsize=(25,5))\n",
    "plt.grid()\n",
    "sns.countplot(x='age', data= data)\n",
    "plt.title(\"Age\", fontsize=15)\n",
    "plt.show()"
   ]
  },
  {
   "cell_type": "code",
   "execution_count": 28,
   "id": "gorgeous-talent",
   "metadata": {},
   "outputs": [
    {
     "data": {
      "image/png": "[encoded data removed]",
      "text/plain": [
       "<Figure size 360x360 with 1 Axes>"
      ]
     },
     "metadata": {
      "needs_background": "light"
     },
     "output_type": "display_data"
    }
   ],
   "source": [
    "plt.figure(figsize=(5,5))\n",
    "plt.grid()\n",
    "sns.countplot(x='children', data= data)\n",
    "plt.title(\"Children\", fontsize=15)\n",
    "plt.show()"
   ]
  },
  {
   "cell_type": "code",
   "execution_count": 29,
   "id": "invisible-punch",
   "metadata": {},
   "outputs": [
    {
     "data": {
      "image/png": "[encoded data removed]",
      "text/plain": [
       "<Figure size 360x360 with 1 Axes>"
      ]
     },
     "metadata": {
      "needs_background": "light"
     },
     "output_type": "display_data"
    }
   ],
   "source": [
    "plt.figure(figsize=(5,5))\n",
    "plt.grid()\n",
    "sns.countplot(x='region', data= data)\n",
    "plt.title(\"Region\", fontsize=15)\n",
    "plt.show()\n"
   ]
  },
  {
   "cell_type": "code",
   "execution_count": 30,
   "id": "assisted-reality",
   "metadata": {},
   "outputs": [
    {
     "data": {
      "image/png": "[encoded data removed]",
      "text/plain": [
       "<Figure size 1080x360 with 1 Axes>"
      ]
     },
     "metadata": {
      "needs_background": "light"
     },
     "output_type": "display_data"
    },
    {
     "name": "stdout",
     "output_type": "stream",
     "text": [
      "the max bmi is:  53.13\n",
      "the min bmi is:  15.96\n",
      "the average bmi is:  30.66339686098655\n"
     ]
    }
   ],
   "source": [
    "plt.figure(figsize=(15,5))\n",
    "plt.grid()\n",
    "sns.histplot(data['bmi'])\n",
    "plt.title(\"bmi\", fontsize=15)\n",
    "plt.show()\n",
    "print(\"the max bmi is: \",data['bmi'].max())\n",
    "print(\"the min bmi is: \",data['bmi'].min())\n",
    "print(\"the average bmi is: \",data['bmi'].mean())"
   ]
  },
  {
   "cell_type": "markdown",
   "id": "civic-chemistry",
   "metadata": {},
   "source": [
    "# LenearRegression(Single Value)"
   ]
  },
  {
   "cell_type": "code",
   "execution_count": 31,
   "id": "satisfactory-mitchell",
   "metadata": {},
   "outputs": [],
   "source": [
    "X = data.loc[:, data.columns=='bmi']\n",
    "y = data.loc[:, data.columns=='charges']\n",
    "X_train, X_test, y_train, y_test = train_test_split(X, y, test_size=0.1, random_state=1234)"
   ]
  },
  {
   "cell_type": "code",
   "execution_count": 32,
   "id": "mental-buyer",
   "metadata": {},
   "outputs": [
    {
     "data": {
      "text/plain": [
       "LinearRegression()"
      ]
     },
     "execution_count": 32,
     "metadata": {},
     "output_type": "execute_result"
    }
   ],
   "source": [
    "slr = LinearRegression()\n",
    "slr.fit(X_train, y_train)"
   ]
  },
  {
   "cell_type": "markdown",
   "id": "filled-integer",
   "metadata": {},
   "source": [
    "# Predict Data"
   ]
  },
  {
   "cell_type": "code",
   "execution_count": 33,
   "id": "animal-remark",
   "metadata": {},
   "outputs": [
    {
     "data": {
      "text/plain": [
       "array([[ 8921.10569424],\n",
       "       [11345.88484264],\n",
       "       [11896.87893484],\n",
       "       [16430.42591405],\n",
       "       [17196.14564513],\n",
       "       [15772.06900242],\n",
       "       [ 9709.10827463],\n",
       "       [13886.12966477],\n",
       "       [13132.56421514],\n",
       "       [12385.07590624],\n",
       "       [11384.37340055],\n",
       "       [11076.46493726],\n",
       "       [14975.96356773],\n",
       "       [14327.73522396],\n",
       "       [10152.73954739],\n",
       "       [10807.04503188],\n",
       "       [13436.42125128],\n",
       "       [16163.03172225],\n",
       "       [16163.03172225],\n",
       "       [11345.88484264],\n",
       "       [16876.08290039],\n",
       "       [11230.41916891],\n",
       "       [13231.82418028],\n",
       "       [11153.44205308],\n",
       "       [10770.58218755],\n",
       "       [15887.53467615],\n",
       "       [13444.52410558],\n",
       "       [14570.82085287],\n",
       "       [15984.76892771],\n",
       "       [15156.25207584],\n",
       "       [10280.35950257],\n",
       "       [14530.30658139],\n",
       "       [13385.77841193],\n",
       "       [16718.0772416 ],\n",
       "       [15867.27754041],\n",
       "       [17945.65966761],\n",
       "       [14078.57245433],\n",
       "       [13310.82700968],\n",
       "       [17856.52827034],\n",
       "       [10537.62512651],\n",
       "       [11653.79330593],\n",
       "       [11856.36466335],\n",
       "       [11538.32763219],\n",
       "       [15502.64909704],\n",
       "       [12241.25024247],\n",
       "       [13963.10678059],\n",
       "       [ 9960.29675784],\n",
       "       [ 9668.59400314],\n",
       "       [11461.35051637],\n",
       "       [14813.90648179],\n",
       "       [ 7689.47184108],\n",
       "       [16961.16287051],\n",
       "       [13385.77841193],\n",
       "       [10884.02214771],\n",
       "       [16876.08290039],\n",
       "       [15887.53467615],\n",
       "       [14781.4950646 ],\n",
       "       [16653.25440722],\n",
       "       [14380.40377689],\n",
       "       [13116.35850655],\n",
       "       [ 8112.84597811],\n",
       "       [15360.84914684],\n",
       "       [14408.76376693],\n",
       "       [10422.15945277],\n",
       "       [18079.35676351],\n",
       "       [11576.81619011],\n",
       "       [16231.90598378],\n",
       "       [13756.48399602],\n",
       "       [13077.86994864],\n",
       "       [17311.61131886],\n",
       "       [11840.15895476],\n",
       "       [12423.56446415],\n",
       "       [11769.25897966],\n",
       "       [13308.80129611],\n",
       "       [18257.61955804],\n",
       "       [10519.39370434],\n",
       "       [19797.16187449],\n",
       "       [10499.13656859],\n",
       "       [10960.99926353],\n",
       "       [12192.63311668],\n",
       "       [12058.93602078],\n",
       "       [14736.92936596],\n",
       "       [ 9152.03704171],\n",
       "       [13922.59250911],\n",
       "       [15543.16336852],\n",
       "       [11961.70176922],\n",
       "       [10037.27387366],\n",
       "       [13979.31248919],\n",
       "       [13039.38139073],\n",
       "       [14501.94659135],\n",
       "       [14617.41226508],\n",
       "       [10726.01648891],\n",
       "       [17143.4770922 ],\n",
       "       [14368.24949545],\n",
       "       [12846.93860117],\n",
       "       [16150.8774408 ],\n",
       "       [16041.48890779],\n",
       "       [20352.20739384],\n",
       "       [15138.02065367],\n",
       "       [15348.69486539],\n",
       "       [10037.27387366],\n",
       "       [17234.63420304],\n",
       "       [11384.37340055],\n",
       "       [14501.94659135],\n",
       "       [11037.97637935],\n",
       "       [ 8898.82284492],\n",
       "       [11191.93061099],\n",
       "       [11461.35051637],\n",
       "       [17009.77999629],\n",
       "       [13667.35259875],\n",
       "       [ 9998.78531575],\n",
       "       [10499.13656859],\n",
       "       [ 9613.89973664],\n",
       "       [13233.84989386],\n",
       "       [12346.58734833],\n",
       "       [15271.71774957],\n",
       "       [14514.1008728 ],\n",
       "       [14578.92370717],\n",
       "       [13934.74679055],\n",
       "       [13043.43281788],\n",
       "       [10268.20522113],\n",
       "       [11694.30757741],\n",
       "       [15259.56346813],\n",
       "       [16385.86021542],\n",
       "       [16296.72881815],\n",
       "       [ 9844.83108411],\n",
       "       [11439.06766705],\n",
       "       [12261.50737821],\n",
       "       [10460.64801068],\n",
       "       [17196.14564513],\n",
       "       [10721.96506176],\n",
       "       [ 8412.6515871 ],\n",
       "       [14155.54957015],\n",
       "       [ 9075.05992588]])"
      ]
     },
     "execution_count": 33,
     "metadata": {},
     "output_type": "execute_result"
    }
   ],
   "source": [
    "y_pred = slr.predict(X_test)\n",
    "y_pred"
   ]
  },
  {
   "cell_type": "markdown",
   "id": "significant-glory",
   "metadata": {},
   "source": [
    "# LenearRegression(Multiple Value)"
   ]
  },
  {
   "cell_type": "code",
   "execution_count": 34,
   "id": "vital-muscle",
   "metadata": {},
   "outputs": [
    {
     "data": {
      "text/html": [
       "<div>\n",
       "<style scoped>\n",
       "    .dataframe tbody tr th:only-of-type {\n",
       "        vertical-align: middle;\n",
       "    }\n",
       "\n",
       "    .dataframe tbody tr th {\n",
       "        vertical-align: top;\n",
       "    }\n",
       "\n",
       "    .dataframe thead th {\n",
       "        text-align: right;\n",
       "    }\n",
       "</style>\n",
       "<table border=\"1\" class=\"dataframe\">\n",
       "  <thead>\n",
       "    <tr style=\"text-align: right;\">\n",
       "      <th></th>\n",
       "      <th>age</th>\n",
       "      <th>gender</th>\n",
       "      <th>bmi</th>\n",
       "      <th>children</th>\n",
       "      <th>smoker</th>\n",
       "      <th>region</th>\n",
       "      <th>charges</th>\n",
       "    </tr>\n",
       "  </thead>\n",
       "  <tbody>\n",
       "    <tr>\n",
       "      <th>0</th>\n",
       "      <td>19</td>\n",
       "      <td>female</td>\n",
       "      <td>27.900</td>\n",
       "      <td>0</td>\n",
       "      <td>yes</td>\n",
       "      <td>southwest</td>\n",
       "      <td>16884.92400</td>\n",
       "    </tr>\n",
       "    <tr>\n",
       "      <th>1</th>\n",
       "      <td>18</td>\n",
       "      <td>male</td>\n",
       "      <td>33.770</td>\n",
       "      <td>1</td>\n",
       "      <td>no</td>\n",
       "      <td>southeast</td>\n",
       "      <td>1725.55230</td>\n",
       "    </tr>\n",
       "    <tr>\n",
       "      <th>2</th>\n",
       "      <td>28</td>\n",
       "      <td>male</td>\n",
       "      <td>33.000</td>\n",
       "      <td>3</td>\n",
       "      <td>no</td>\n",
       "      <td>southeast</td>\n",
       "      <td>4449.46200</td>\n",
       "    </tr>\n",
       "    <tr>\n",
       "      <th>3</th>\n",
       "      <td>33</td>\n",
       "      <td>male</td>\n",
       "      <td>22.705</td>\n",
       "      <td>0</td>\n",
       "      <td>no</td>\n",
       "      <td>northwest</td>\n",
       "      <td>21984.47061</td>\n",
       "    </tr>\n",
       "    <tr>\n",
       "      <th>4</th>\n",
       "      <td>32</td>\n",
       "      <td>male</td>\n",
       "      <td>28.880</td>\n",
       "      <td>0</td>\n",
       "      <td>no</td>\n",
       "      <td>northwest</td>\n",
       "      <td>3866.85520</td>\n",
       "    </tr>\n",
       "  </tbody>\n",
       "</table>\n",
       "</div>"
      ],
      "text/plain": [
       "   age  gender     bmi  children smoker     region      charges\n",
       "0   19  female  27.900         0    yes  southwest  16884.92400\n",
       "1   18    male  33.770         1     no  southeast   1725.55230\n",
       "2   28    male  33.000         3     no  southeast   4449.46200\n",
       "3   33    male  22.705         0     no  northwest  21984.47061\n",
       "4   32    male  28.880         0     no  northwest   3866.85520"
      ]
     },
     "execution_count": 34,
     "metadata": {},
     "output_type": "execute_result"
    }
   ],
   "source": [
    "data.head()"
   ]
  },
  {
   "cell_type": "markdown",
   "id": "sorted-america",
   "metadata": {},
   "source": [
    "# Data Proccesing"
   ]
  },
  {
   "cell_type": "code",
   "execution_count": 35,
   "id": "diverse-testing",
   "metadata": {},
   "outputs": [],
   "source": [
    "le = preprocessing.LabelEncoder()\n",
    "data['gender']=le.fit_transform(data['gender'])\n",
    "data['smoker']=le.fit_transform(data['smoker'])\n",
    "data['region']=le.fit_transform(data['region'])"
   ]
  },
  {
   "cell_type": "code",
   "execution_count": 36,
   "id": "further-franchise",
   "metadata": {},
   "outputs": [
    {
     "data": {
      "text/html": [
       "<div>\n",
       "<style scoped>\n",
       "    .dataframe tbody tr th:only-of-type {\n",
       "        vertical-align: middle;\n",
       "    }\n",
       "\n",
       "    .dataframe tbody tr th {\n",
       "        vertical-align: top;\n",
       "    }\n",
       "\n",
       "    .dataframe thead th {\n",
       "        text-align: right;\n",
       "    }\n",
       "</style>\n",
       "<table border=\"1\" class=\"dataframe\">\n",
       "  <thead>\n",
       "    <tr style=\"text-align: right;\">\n",
       "      <th></th>\n",
       "      <th>age</th>\n",
       "      <th>gender</th>\n",
       "      <th>bmi</th>\n",
       "      <th>children</th>\n",
       "      <th>smoker</th>\n",
       "      <th>region</th>\n",
       "      <th>charges</th>\n",
       "    </tr>\n",
       "  </thead>\n",
       "  <tbody>\n",
       "    <tr>\n",
       "      <th>0</th>\n",
       "      <td>19</td>\n",
       "      <td>0</td>\n",
       "      <td>27.900</td>\n",
       "      <td>0</td>\n",
       "      <td>1</td>\n",
       "      <td>3</td>\n",
       "      <td>16884.92400</td>\n",
       "    </tr>\n",
       "    <tr>\n",
       "      <th>1</th>\n",
       "      <td>18</td>\n",
       "      <td>1</td>\n",
       "      <td>33.770</td>\n",
       "      <td>1</td>\n",
       "      <td>0</td>\n",
       "      <td>2</td>\n",
       "      <td>1725.55230</td>\n",
       "    </tr>\n",
       "    <tr>\n",
       "      <th>2</th>\n",
       "      <td>28</td>\n",
       "      <td>1</td>\n",
       "      <td>33.000</td>\n",
       "      <td>3</td>\n",
       "      <td>0</td>\n",
       "      <td>2</td>\n",
       "      <td>4449.46200</td>\n",
       "    </tr>\n",
       "    <tr>\n",
       "      <th>3</th>\n",
       "      <td>33</td>\n",
       "      <td>1</td>\n",
       "      <td>22.705</td>\n",
       "      <td>0</td>\n",
       "      <td>0</td>\n",
       "      <td>1</td>\n",
       "      <td>21984.47061</td>\n",
       "    </tr>\n",
       "    <tr>\n",
       "      <th>4</th>\n",
       "      <td>32</td>\n",
       "      <td>1</td>\n",
       "      <td>28.880</td>\n",
       "      <td>0</td>\n",
       "      <td>0</td>\n",
       "      <td>1</td>\n",
       "      <td>3866.85520</td>\n",
       "    </tr>\n",
       "  </tbody>\n",
       "</table>\n",
       "</div>"
      ],
      "text/plain": [
       "   age  gender     bmi  children  smoker  region      charges\n",
       "0   19       0  27.900         0       1       3  16884.92400\n",
       "1   18       1  33.770         1       0       2   1725.55230\n",
       "2   28       1  33.000         3       0       2   4449.46200\n",
       "3   33       1  22.705         0       0       1  21984.47061\n",
       "4   32       1  28.880         0       0       1   3866.85520"
      ]
     },
     "execution_count": 36,
     "metadata": {},
     "output_type": "execute_result"
    }
   ],
   "source": [
    "data.head()"
   ]
  },
  {
   "cell_type": "code",
   "execution_count": 37,
   "id": "western-pursuit",
   "metadata": {},
   "outputs": [
    {
     "data": {
      "text/plain": [
       "LinearRegression()"
      ]
     },
     "execution_count": 37,
     "metadata": {},
     "output_type": "execute_result"
    }
   ],
   "source": [
    "reg=LinearRegression()\n",
    "reg.fit(data[['age','gender','bmi','children','smoker','region']],data.charges)"
   ]
  },
  {
   "cell_type": "markdown",
   "id": "277badf9",
   "metadata": {},
   "source": [
    "# Prediction of medical charge  using multiple linear regression"
   ]
  },
  {
   "cell_type": "code",
   "execution_count": 19,
   "id": "rental-harris",
   "metadata": {},
   "outputs": [
    {
     "data": {
      "text/plain": [
       "array([25177.83834488])"
      ]
     },
     "execution_count": 19,
     "metadata": {},
     "output_type": "execute_result"
    }
   ],
   "source": [
    "reg.predict([[18,1,25.700,1,1,1]])"
   ]
  },
  {
   "cell_type": "code",
   "execution_count": null,
   "id": "assured-turtle",
   "metadata": {},
   "outputs": [],
   "source": []
  }
 ],
 "metadata": {
  "kernelspec": {
   "display_name": "Python 3",
   "language": "python",
   "name": "python3"
  },
  "language_info": {
   "codemirror_mode": {
    "name": "ipython",
    "version": 3
   },
   "file_extension": ".py",
   "mimetype": "text/x-python",
   "name": "python",
   "nbconvert_exporter": "python",
   "pygments_lexer": "ipython3",
   "version": "3.9.2"
  }
 },
 "nbformat": 4,
 "nbformat_minor": 5
}
